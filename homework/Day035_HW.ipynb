{
 "cells": [
  {
   "cell_type": "markdown",
   "metadata": {},
   "source": [
    "# 加速：多線程爬蟲\n",
    "\n",
    "\n",
    "\n",
    "* 了解知乎 API 使用方式與回傳內容\n",
    "* 撰寫程式存取 API 且添加標頭"
   ]
  },
  {
   "cell_type": "markdown",
   "metadata": {},
   "source": [
    "## 作業目標\n",
    "\n",
    "* 找一個之前實作過的爬蟲改用多線程改寫，比較前後時間的差異。\n",
    "\n",
    "\n",
    "\n"
   ]
  },
  {
   "cell_type": "code",
   "execution_count": 15,
   "metadata": {
    "scrolled": true
   },
   "outputs": [
    {
     "name": "stdout",
     "output_type": "stream",
     "text": [
      "https://www.ptt.cc/bbs/Gossiping/index39490.html\n",
      "https://www.ptt.cc/bbs/Gossiping/index39491.html\n",
      "https://www.ptt.cc/bbs/Gossiping/index39492.html\n",
      "https://www.ptt.cc/bbs/Gossiping/index39493.html\n",
      "https://www.ptt.cc/bbs/Gossiping/index39494.html\n",
      "https://www.ptt.cc/bbs/Gossiping/index39495.html\n",
      "https://www.ptt.cc/bbs/Gossiping/index39496.html\n",
      "https://www.ptt.cc/bbs/Gossiping/index39497.html\n",
      "https://www.ptt.cc/bbs/Gossiping/index39498.html\n",
      "https://www.ptt.cc/bbs/Gossiping/index39499.html\n",
      "https://www.ptt.cc/bbs/Gossiping/index39500.html\n",
      "4.255000114440918\n"
     ]
    }
   ],
   "source": [
    "import requests\n",
    "from bs4 import BeautifulSoup\n",
    "import time\n",
    "\n",
    "start_time = time.time()\n",
    "\n",
    "urls = []\n",
    "for i in range(39490, 39501):   \n",
    "    u = \"https://www.ptt.cc/bbs/Gossiping/index\"+str(i)+\".html\"\n",
    "    if u not in urls:\n",
    "        urls.append(u)\n",
    "\n",
    "for url in urls:\n",
    "    print(url)\n",
    "    requests.get(url)\n",
    "\n",
    "print(time.time()-start_time)"
   ]
  },
  {
   "cell_type": "code",
   "execution_count": 16,
   "metadata": {
    "scrolled": true
   },
   "outputs": [
    {
     "name": "stdout",
     "output_type": "stream",
     "text": [
      "https://www.ptt.cc/bbs/Gossiping/index39490.html\n",
      "https://www.ptt.cc/bbs/Gossiping/index39491.html\n",
      "https://www.ptt.cc/bbs/Gossiping/index39492.html\n",
      "https://www.ptt.cc/bbs/Gossiping/index39493.html\n",
      "https://www.ptt.cc/bbs/Gossiping/index39494.html\n",
      "https://www.ptt.cc/bbs/Gossiping/index39495.html\n",
      "https://www.ptt.cc/bbs/Gossiping/index39496.html\n",
      "https://www.ptt.cc/bbs/Gossiping/index39497.html\n",
      "https://www.ptt.cc/bbs/Gossiping/index39498.html\n",
      "https://www.ptt.cc/bbs/Gossiping/index39499.html\n",
      "https://www.ptt.cc/bbs/Gossiping/index39500.html\n",
      "0.0069997310638427734\n"
     ]
    }
   ],
   "source": [
    "import requests\n",
    "from bs4 import BeautifulSoup\n",
    "import time\n",
    "import _thread\n",
    "\n",
    "start_time = time.time()\n",
    "\n",
    "urls = []\n",
    "for i in range(39490, 39501):   \n",
    "    u = \"https://www.ptt.cc/bbs/Gossiping/index\"+str(i)+\".html\"\n",
    "    if u not in urls:\n",
    "        urls.append(u)\n",
    "\n",
    "for url in urls:\n",
    "    print(url)\n",
    "    _thread.start_new_thread(requests.get, (url,))\n",
    "\n",
    "print(time.time()-start_time)"
   ]
  },
  {
   "cell_type": "code",
   "execution_count": null,
   "metadata": {},
   "outputs": [],
   "source": []
  }
 ],
 "metadata": {
  "colab": {
   "name": "homework.ipynb",
   "provenance": []
  },
  "kernelspec": {
   "display_name": "Python 3",
   "language": "python",
   "name": "python3"
  },
  "language_info": {
   "codemirror_mode": {
    "name": "ipython",
    "version": 3
   },
   "file_extension": ".py",
   "mimetype": "text/x-python",
   "name": "python",
   "nbconvert_exporter": "python",
   "pygments_lexer": "ipython3",
   "version": "3.7.3"
  }
 },
 "nbformat": 4,
 "nbformat_minor": 1
}
