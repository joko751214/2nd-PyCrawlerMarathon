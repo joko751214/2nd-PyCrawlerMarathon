{
 "cells": [
  {
   "cell_type": "markdown",
   "metadata": {},
   "source": [
    "# PTT 網路爬蟲實作練習\n",
    "\n",
    "\n",
    "* 能夠利用 Request + BeatifulSour 撰寫爬蟲，並存放到合適的資料結構\n"
   ]
  },
  {
   "cell_type": "markdown",
   "metadata": {},
   "source": [
    "## 作業目標\n",
    "\n",
    "根據範例 ，完成以下問題：\n",
    "\n",
    "* ① 印出最新文章的「作者」「標題」「時間」\n",
    "* ② 印出第一頁所有文章的「作者」「標題」「時間」\n"
   ]
  },
  {
   "cell_type": "markdown",
   "metadata": {},
   "source": [
    "### ① 印出最新文章的「作者」「標題」「時間」"
   ]
  },
  {
   "cell_type": "code",
   "execution_count": 23,
   "metadata": {},
   "outputs": [
    {
     "data": {
      "text/plain": [
       "{'標題': 'Fw: [公告] 台灣大學學生帳號註冊辦法',\n",
       " '作者': 'Vedan (味丹)',\n",
       " '時間': 'Wed Mar  4 16:58:46 2020'}"
      ]
     },
     "execution_count": 23,
     "metadata": {},
     "output_type": "execute_result"
    }
   ],
   "source": [
    "'''\n",
    "Your Code\n",
    "'''\n",
    "import requests\n",
    "from bs4 import BeautifulSoup\n",
    "\n",
    "r = requests.get(\"https://www.ptt.cc/bbs/NBA/index.html\")\n",
    "soup = BeautifulSoup(r.text, 'html5lib')\n",
    "\n",
    "posts = []\n",
    "for i in soup.find_all(class_='title'):\n",
    "    try:\n",
    "        post = {}\n",
    "        post['標題'] = i.text.replace('\\n', '').replace('\\t', '')\n",
    "        resp = BeautifulSoup(requests.get(\"https://www.ptt.cc\"+i.a['href']).text, 'html5lib')\n",
    "#         print(resp.find(class_='article-meta-value').text)\n",
    "        post['作者'] = resp.find(class_='article-meta-value').text\n",
    "        post['時間'] = resp.find_all(class_='article-meta-value')[-1].text\n",
    "#         print(resp.find_all(class_='article-meta-value')[-1].text)\n",
    "        posts.append(post)\n",
    "    except:\n",
    "        continue\n",
    "\n",
    "posts = sorted(posts, key=lambda x: x['時間'])\n",
    "posts[-1]"
   ]
  },
  {
   "cell_type": "markdown",
   "metadata": {},
   "source": [
    "### ② 印出第一頁所有文章的「作者」「標題」「時間」"
   ]
  },
  {
   "cell_type": "code",
   "execution_count": 3,
   "metadata": {},
   "outputs": [
    {
     "name": "stdout",
     "output_type": "stream",
     "text": [
      "作者: sthho 標題: [討論] NBA停賽的可能性?! 時間:  3/09\n",
      "作者: Rambo 標題: [BOX ] Raptors 118:113 Kings 數據 時間:  3/09\n",
      "作者: Vedan 標題: [公告] 第一次被退文，可在三天後刪除退文 時間:  3/09\n",
      "作者: sodistrues 標題: [新聞]全陣快艇吞第一敗 湖人本季洛城內戰首開 時間:  3/09\n",
      "作者: NSYSUheng 標題: [情報] 雷霆本季16次前三節落後逆轉勝 聯盟最多 時間:  3/09\n",
      "作者: MayBeSoft 標題: [討論] 快艇是不是被騙了買到假貨啊 時間:  3/09\n",
      "作者: UCAthena 標題: [花邊] 球迷嗆Walton：你這白痴，你有三分冠軍 時間:  3/09\n",
      "作者: IAMGRICE 標題: Re: [花邊] 歐尼爾:誰能擊敗這五個人！ 時間:  3/09\n",
      "作者: ericgary 標題: Re: [BOX ] Lakers 112:103 Clippers 數據 時間:  3/09\n",
      "作者: manuginobii 標題: [情報] 28次失誤?籃網臨時教練:前7個是球有點滑 時間:  3/09\n",
      "作者: KyrieIrving1 標題: [情報] SNY記者：一些籃網老將質疑阿特金森能否 時間:  3/09\n",
      "作者: thnlkj0665 標題: [花邊] 11年來首見盛況 McGee：湖人當今世界最強 時間:  3/09\n",
      "作者: Vedan 標題: [公告] 板規v6.8 時間:  5/24\n",
      "作者: qazwsx879345 標題: [公告] 版主上任相關事項  時間: 10/25\n",
      "作者: Acetoxy 標題: [情報] SEASON Schedule 賽程 March 19–20 時間:  3/02\n",
      "作者: Vedan 標題: Fw: [公告] 即日起開放 NTU 信箱註冊帳號 時間:  3/04\n",
      "作者: Vedan 標題: Fw: [公告] 台灣大學學生帳號註冊辦法 時間:  3/04\n"
     ]
    }
   ],
   "source": [
    "'''\n",
    "Your Code\n",
    "'''\n",
    "for i in r_ent:\n",
    "    print(\"作者:\", i.find(class_='author').text, end=' ')\n",
    "    print(\"標題:\", i.a.text, end=' ')\n",
    "    print(\"時間:\", i.find(class_='date').text)"
   ]
  },
  {
   "cell_type": "markdown",
   "metadata": {},
   "source": [
    "### ③ 試著爬爬看其他版的文章"
   ]
  },
  {
   "cell_type": "code",
   "execution_count": 44,
   "metadata": {},
   "outputs": [
    {
     "name": "stdout",
     "output_type": "stream",
     "text": [
      "作者: <div class=\"author\">nelson9461</div> 標題: [閒聊] LPL是不是比PCS還窮阿 時間: <div class=\"date\"> 3/09</div>\n",
      "作者: <div class=\"author\">louiss72</div> 標題: [問題] 未來市集算不算單利 時間: <div class=\"date\"> 3/09</div>\n",
      "作者: <div class=\"author\">lovewenhui</div> 標題: [閒聊] 凱特琳會BBB叫我路邊靠嗎？ 時間: <div class=\"date\"> 3/09</div>\n",
      "作者: <div class=\"author\">Wardyal</div> 標題: [閒聊] 記得算是LPL當家主播嗎 時間: <div class=\"date\"> 3/09</div>\n",
      "作者: <div class=\"author\">InnGee</div> 標題: [公告] 伺服器狀況詢問/聊天/揪團/抱怨/多功能區 時間: <div class=\"date\"> 9/22</div>\n",
      "作者: <div class=\"author\">samhou6</div> 標題: [公告] LoL 英雄聯盟板板規（Patch 19.10.02） 時間: <div class=\"date\"> 6/30</div>\n",
      "作者: <div class=\"author\">S890127</div> 標題: [情報] PCS 2020 Spring 賽程表 時間: <div class=\"date\"> 2/21</div>\n",
      "作者: <div class=\"author\">an80174</div> 標題: [電競] LPL春季賽  時間: <div class=\"date\"> 3/09</div>\n"
     ]
    }
   ],
   "source": [
    "'''\n",
    "Your Code\n",
    "'''\n",
    "r = requests.get(\"https://www.ptt.cc/bbs/LoL/index.html\")\n",
    "soup = BeautifulSoup(r.text, 'html5lib')\n",
    "\n",
    "r_ent = soup.find_all(class_='r-ent')\n",
    "\n",
    "for i in r_ent:\n",
    "    print(\"作者:\", i.find(class_='author'), end=' ')\n",
    "    print(\"標題:\", i.a.text, end=' ')\n",
    "    print(\"時間:\", i.find(class_='date'))"
   ]
  }
 ],
 "metadata": {
  "kernelspec": {
   "display_name": "Python 3",
   "language": "python",
   "name": "python3"
  },
  "language_info": {
   "codemirror_mode": {
    "name": "ipython",
    "version": 3
   },
   "file_extension": ".py",
   "mimetype": "text/x-python",
   "name": "python",
   "nbconvert_exporter": "python",
   "pygments_lexer": "ipython3",
   "version": "3.7.3"
  }
 },
 "nbformat": 4,
 "nbformat_minor": 2
}
