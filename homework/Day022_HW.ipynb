{
 "cells": [
  {
   "cell_type": "markdown",
   "metadata": {},
   "source": [
    "# 空氣污染監測網 網路爬蟲實作練習\n",
    "\n",
    "\n",
    "* 能夠利用 selenium + BeautifulSoup 撰寫爬蟲，並存放到合適的資料結構\n"
   ]
  },
  {
   "cell_type": "markdown",
   "metadata": {},
   "source": [
    "## 作業目標\n",
    "\n",
    "根據範例 ，完成以下問題：\n",
    "\n",
    "* ① 取出 台北市士林區 2018/01 – 2018/08 的 SO2 資料\n",
    "* ② 取出 台北市士林區 2018/01 – 2018/08 的 SO2、CO 資料\n",
    "\n",
    "\n",
    "\n"
   ]
  },
  {
   "cell_type": "code",
   "execution_count": 66,
   "metadata": {},
   "outputs": [],
   "source": [
    "from selenium import webdriver\n",
    "from selenium.webdriver.support.ui import Select\n",
    "from bs4 import BeautifulSoup\n",
    "\n",
    "# 打開瀏覽器\n",
    "browser = webdriver.Chrome()\n",
    "browser.get(\"https://taqm.epa.gov.tw/taqm/tw/MonthlyAverage.aspx\")"
   ]
  },
  {
   "cell_type": "code",
   "execution_count": 67,
   "metadata": {},
   "outputs": [],
   "source": [
    "selectSite = Select(browser.find_element_by_id(\"ctl05_ddlSite\"))\n",
    "selectSite.select_by_value(\"11\")\n",
    "selectYear = Select(browser.find_element_by_id(\"ctl05_ddlYear\"))\n",
    "selectYear.select_by_value(\"2018\")\n",
    "\n",
    "browser.find_element_by_id(\"ctl05_btnQuery\").click()"
   ]
  },
  {
   "cell_type": "markdown",
   "metadata": {},
   "source": [
    "### ① 取出 台北市士林區 2018/01 – 2018/08 的 SO2 資料"
   ]
  },
  {
   "cell_type": "code",
   "execution_count": 68,
   "metadata": {},
   "outputs": [
    {
     "name": "stdout",
     "output_type": "stream",
     "text": [
      "{'SO2': {'2018/01': '1.80', '2018/02': '1.90', '2018/03': '2.20', '2018/04': '2.30', '2018/05': '3.10', '2018/06': '2.70', '2018/07': '2.20', '2018/08': '2.40'}}\n"
     ]
    }
   ],
   "source": [
    "html = browser.page_source\n",
    "\n",
    "soup = BeautifulSoup(html, 'html.parser')\n",
    "table = soup.find('table', class_=\"TABLE_G\")\n",
    "\n",
    "d = {}\n",
    "for i in table.find_all('tr')[1:9]:\n",
    "    if len(i) == 7:\n",
    "        name = i.find('td', class_='no-alt').text\n",
    "        d.setdefault(name,{})\n",
    "        date = i.find_all('td')[2].text\n",
    "        value = i.find_all('td')[3].text\n",
    "        d[name][date] = value\n",
    "    else:\n",
    "        date = i.find_all('td')[0].text\n",
    "        value = i.find_all('td')[1].text\n",
    "        d[name][date] = value\n",
    "\n",
    "print(d)"
   ]
  },
  {
   "cell_type": "markdown",
   "metadata": {},
   "source": [
    "### ② 取出 台北市士林區 2018/01 – 2018/08 的 SO2、CO 資料"
   ]
  },
  {
   "cell_type": "code",
   "execution_count": 75,
   "metadata": {},
   "outputs": [
    {
     "name": "stdout",
     "output_type": "stream",
     "text": [
      "{'SO2': {'2018/01': '1.80', '2018/02': '1.90', '2018/03': '2.20', '2018/04': '2.30', '2018/05': '3.10', '2018/06': '2.70', '2018/07': '2.20', '2018/08': '2.40'}, 'CO': {'2018/01': '0.34', '2018/02': '0.44', '2018/03': '0.40', '2018/04': '0.38', '2018/05': '0.34', '2018/06': '0.29', '2018/07': '0.21', '2018/08': '0.30'}}\n"
     ]
    }
   ],
   "source": [
    "dic = {}\n",
    "for td in table.find_all('tr')[1:]:\n",
    "    for i, t in enumerate(td.find_all('td')):\n",
    "        try:\n",
    "            if len(td) == 7:\n",
    "                if i == 0:\n",
    "                    name = t.text\n",
    "                    if name == 'SO2' or name == 'CO':\n",
    "                        dic.setdefault(name,{})\n",
    "                elif i == 2:\n",
    "                    date = t.text\n",
    "                elif i == 3:\n",
    "                    value = t.text\n",
    "                    dic[name][date] = value\n",
    "            else:\n",
    "                if i == 0:\n",
    "                    date = t.text\n",
    "                elif i == 1:\n",
    "                    value = t.text\n",
    "                    if date < '2018/09':\n",
    "                        dic[name][date] = value\n",
    "        except:\n",
    "            pass\n",
    "\n",
    "print(dic)"
   ]
  },
  {
   "cell_type": "code",
   "execution_count": null,
   "metadata": {},
   "outputs": [],
   "source": []
  }
 ],
 "metadata": {
  "kernelspec": {
   "display_name": "Python 3",
   "language": "python",
   "name": "python3"
  },
  "language_info": {
   "codemirror_mode": {
    "name": "ipython",
    "version": 3
   },
   "file_extension": ".py",
   "mimetype": "text/x-python",
   "name": "python",
   "nbconvert_exporter": "python",
   "pygments_lexer": "ipython3",
   "version": "3.7.3"
  }
 },
 "nbformat": 4,
 "nbformat_minor": 2
}
