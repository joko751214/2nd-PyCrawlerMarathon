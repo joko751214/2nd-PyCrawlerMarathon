{
 "cells": [
  {
   "cell_type": "markdown",
   "metadata": {},
   "source": [
    "# PTT 網路爬蟲實作練習\n",
    "\n",
    "\n",
    "* 能夠利用 Request + BeatifulSour 撰寫爬蟲，並存放到合適的資料結構\n"
   ]
  },
  {
   "cell_type": "markdown",
   "metadata": {},
   "source": [
    "## 作業目標\n",
    "\n",
    "根據範例 ，完成以下問題：\n",
    "\n",
    "* ① 印出最新文章的「作者」「標題」「時間」\n",
    "* ② 印出第一頁所有文章的「作者」「標題」「時間」\n",
    "* ③ 試著爬爬看其他版的文章\n"
   ]
  },
  {
   "cell_type": "code",
   "execution_count": 4,
   "metadata": {},
   "outputs": [],
   "source": [
    "import requests\n",
    "from bs4 import BeautifulSoup\n",
    "\n",
    "url = 'https://www.ptt.cc/bbs/Stock/index.html'\n",
    "r = requests.get(url)\n",
    "\n",
    "soup = BeautifulSoup(r.text, \"html5lib\")"
   ]
  },
  {
   "cell_type": "markdown",
   "metadata": {},
   "source": [
    "### ② 印出第一頁所有文章的「作者」「標題」「時間」"
   ]
  },
  {
   "cell_type": "code",
   "execution_count": 5,
   "metadata": {
    "scrolled": true
   },
   "outputs": [
    {
     "name": "stdout",
     "output_type": "stream",
     "text": [
      "標題：  [新聞] 群聯無懼疫情，2月營收逆勢雙增、市占UP\n",
      "作者：  pttmaster\n",
      "時間：   3/09\n",
      "標題：  (本文已被刪除) [wayward]\n",
      "作者：  -\n",
      "時間：   3/09\n",
      "標題：  [請益] etf下市？\n",
      "作者：  oooohey\n",
      "時間：   3/09\n",
      "標題：  [其他] 疫情過後的選股策略\n",
      "作者：  eric112\n",
      "時間：   3/09\n",
      "標題：  Re: [其他] 外資歷史賣超前五名\n",
      "作者：  deann\n",
      "時間：   3/09\n",
      "標題：  [其他] 歐洲股市接力重挫\n",
      "作者：  occlumency3\n",
      "時間：   3/09\n",
      "標題：  [心得] 現在還有人會覺得股市0風險嗎？\n",
      "作者：  escalo\n",
      "時間：   3/09\n",
      "標題：  [請益] 儲蓄型保險是否贖回\n",
      "作者：  potabaw\n",
      "時間：   3/09\n",
      "標題：  [請益] 元大石油正二 不給申購明天怎玩\n",
      "作者：  meichiang\n",
      "時間：   3/09\n",
      "標題：  Re: [新聞] 淨值剩3元！ 元大S&P原油正2溢價大還有這\n",
      "作者：  jiunjie61\n",
      "時間：   3/09\n",
      "標題：  [請益] 原油正2預估淨值\n",
      "作者：  bismarck85\n",
      "時間：   3/09\n",
      "標題：  Re: [請益] 美股現在的位階合理嗎？\n",
      "作者：  tompi\n",
      "時間：   3/09\n",
      "標題：  [新聞] 台積電股價創3個月低 市值跌破8兆元\n",
      "作者：  Reewalker\n",
      "時間：   3/09\n",
      "標題：  [公告] 精華區導覽Q&A\n",
      "作者：  IanLi\n",
      "時間：   1/25\n",
      "標題：  [公告] Stock 板規V2.6             (2019/06/20)\n",
      "作者：  eyespot\n",
      "時間：  11/03\n",
      "標題：  [公告] 關於武漢肺炎新聞規範\n",
      "作者：  noldorelf\n",
      "時間：   1/25\n",
      "標題：  [閒聊] 2020/03/09 盤後閒聊\n",
      "作者：  vendan5566\n",
      "時間：   3/09\n"
     ]
    }
   ],
   "source": [
    "# 方法一：只從首頁\n",
    "for d in soup.find_all(class_=\"r-ent\"):\n",
    "    print('標題： ', d.find(class_='title').text.replace('\\t', '').replace('\\n', ''))\n",
    "    print('作者： ', d.find(class_='author').text.replace('\\t', '').replace('\\n', ''))\n",
    "    print('時間： ', d.find(class_='date').text.replace('\\t', '').replace('\\n', ''))\n",
    "    "
   ]
  },
  {
   "cell_type": "code",
   "execution_count": 6,
   "metadata": {
    "scrolled": true
   },
   "outputs": [
    {
     "name": "stdout",
     "output_type": "stream",
     "text": [
      "標題：  [新聞] 群聯無懼疫情，2月營收逆勢雙增、市占UP\n",
      "作者： pttmaster (批踢踢大濕)\n",
      "時間： Mon Mar  9 15:55:07 2020\n",
      "標題：  (本文已被刪除) [wayward]\n",
      "標題：  [請益] etf下市？\n",
      "作者： oooohey (專門哥)\n",
      "時間： Mon Mar  9 16:13:24 2020\n",
      "標題：  [其他] 疫情過後的選股策略\n",
      "作者： eric112 (eric)\n",
      "時間： Mon Mar  9 16:15:07 2020\n",
      "標題：  Re: [其他] 外資歷史賣超前五名\n",
      "作者： deann (古美門上身)\n",
      "時間： Mon Mar  9 16:15:53 2020\n",
      "標題：  [其他] 歐洲股市接力重挫\n",
      "作者： occlumency3 (鎖心術)\n",
      "時間： Mon Mar  9 16:17:18 2020\n",
      "標題：  [心得] 現在還有人會覺得股市0風險嗎？\n",
      "作者： escalo (帥的可比不來ㄣ)\n",
      "時間： Mon Mar  9 16:18:08 2020\n",
      "標題：  [請益] 儲蓄型保險是否贖回\n",
      "作者： potabaw (...)\n",
      "時間： Mon Mar  9 16:24:31 2020\n",
      "標題：  [請益] 元大石油正二 不給申購明天怎玩\n",
      "作者： meichiang (美江)\n",
      "時間： Mon Mar  9 16:25:02 2020\n",
      "標題：  Re: [新聞] 淨值剩3元！ 元大S&P原油正2溢價大還有這\n",
      "作者： jiunjie61 (Jiunjie)\n",
      "時間： Mon Mar  9 16:26:41 2020\n",
      "標題：  [請益] 原油正2預估淨值\n",
      "作者： bismarck85 (Bismarck)\n",
      "時間： Mon Mar  9 16:28:07 2020\n",
      "標題：  Re: [請益] 美股現在的位階合理嗎？\n",
      "作者： tompi (大波動)\n",
      "時間： Mon Mar  9 16:30:51 2020\n",
      "標題：  [新聞] 台積電股價創3個月低 市值跌破8兆元\n",
      "作者： Reewalker (報告饅頭班長不夠)\n",
      "時間： Mon Mar  9 16:32:57 2020\n",
      "標題：  [公告] 精華區導覽Q&A\n",
      "作者： IanLi (IanLi)\n",
      "時間： Sun Jan 25 23:18:20 2015\n",
      "標題：  [公告] Stock 板規V2.6             (2019/06/20)\n",
      "標題：  [公告] 關於武漢肺炎新聞規範\n",
      "作者： noldorelf (屏東周渝民)\n",
      "時間： Sat Jan 25 15:02:33 2020\n",
      "標題：  [閒聊] 2020/03/09 盤後閒聊\n",
      "作者： vendan5566 (阿文)\n",
      "時間： Mon Mar  9 14:00:00 2020\n"
     ]
    }
   ],
   "source": [
    "# 方法二：進入內頁抓\n",
    "for d in soup.find_all(class_=\"title\"):\n",
    "    try:\n",
    "        print('標題： ', d.text.replace('\\t', '').replace('\\n', ''))\n",
    "        r = BeautifulSoup(requests.get('https://www.ptt.cc'+d.find('a')['href']).text, \"html5lib\")\n",
    "        print('作者： ' + r.find(class_='article-meta-value').text)\n",
    "        print('時間： ' + r.find_all(class_='article-meta-value')[-1].text)\n",
    "    except:\n",
    "        continue"
   ]
  },
  {
   "cell_type": "markdown",
   "metadata": {},
   "source": [
    "### ① 印出最新文章的「作者」「標題」「時間」"
   ]
  },
  {
   "cell_type": "code",
   "execution_count": 9,
   "metadata": {},
   "outputs": [
    {
     "data": {
      "text/plain": [
       "{'標題': '[公告] 精華區導覽Q&A',\n",
       " '作者': 'IanLi (IanLi)',\n",
       " '時間': 'Sun Jan 25 23:18:20 2015'}"
      ]
     },
     "execution_count": 9,
     "metadata": {},
     "output_type": "execute_result"
    }
   ],
   "source": [
    "# 因為原始的資料難以判斷「新/舊」，因此我們必須進入內頁抓取詳細的時間，最終存成 List of Dict 的形式再自行排序。\n",
    "\n",
    "posts = []\n",
    "\n",
    "for d in soup.find_all(class_=\"title\"):\n",
    "    try:\n",
    "        post = {}\n",
    "        post['標題'] = d.text.replace('\\t', '').replace('\\n', '')\n",
    "        \n",
    "        r = BeautifulSoup(requests.get('https://www.ptt.cc'+d.find('a')['href']).text, \"html5lib\")\n",
    "        post['作者'] = r.find(class_='article-meta-value').text\n",
    "        post['時間'] = r.find_all(class_='article-meta-value')[-1].text\n",
    "        \n",
    "        posts.append(post)\n",
    "    except:\n",
    "        continue\n",
    "        \n",
    "posts = sorted(posts, key= lambda x: x['時間'])\n",
    "# 補充：List of Dict 的排序方法\n",
    "# https://stackoverflow.com/questions/72899/how-do-i-sort-a-list-of-dictionaries-by-a-value-of-the-dictionary\n",
    "posts[-1]"
   ]
  },
  {
   "cell_type": "markdown",
   "metadata": {},
   "source": [
    "### ③ 試著爬爬看其他版的文章"
   ]
  },
  {
   "cell_type": "code",
   "execution_count": 19,
   "metadata": {},
   "outputs": [
    {
     "data": {
      "text/plain": [
       "{'標題': '[情報] 蝦皮雙12家用品&衛生紙0.063/抽',\n",
       " '作者': 'Drummer14 (血族女妖)',\n",
       " '時間': 'Thu Dec 12 11:05:25 2019'}"
      ]
     },
     "execution_count": 19,
     "metadata": {},
     "output_type": "execute_result"
    }
   ],
   "source": [
    "# 改成 Lifeismoney 版，抓出最新一筆的文章\n",
    "\n",
    "import requests\n",
    "from bs4 import BeautifulSoup\n",
    "\n",
    "url = 'https://www.ptt.cc/bbs/Lifeismoney/index.html'\n",
    "r = requests.get(url)\n",
    "\n",
    "soup = BeautifulSoup(r.text, \"html5lib\")\n",
    "\n",
    "posts = []\n",
    "\n",
    "for d in soup.find_all(class_=\"title\"):\n",
    "    try:\n",
    "        post = {}\n",
    "        post['標題'] = d.text.replace('\\t', '').replace('\\n', '')\n",
    "        \n",
    "        r = BeautifulSoup(requests.get('https://www.ptt.cc'+d.find('a')['href']).text, \"html5lib\")\n",
    "        post['作者'] = r.find(class_='article-meta-value').text\n",
    "        post['時間'] = r.find_all(class_='article-meta-value')[-1].text\n",
    "        \n",
    "        posts.append(post)\n",
    "    except:\n",
    "        continue\n",
    "        \n",
    "posts = sorted(posts, key= lambda x: x['時間'])\n",
    "posts[-1]"
   ]
  },
  {
   "cell_type": "code",
   "execution_count": 21,
   "metadata": {},
   "outputs": [
    {
     "ename": "IndexError",
     "evalue": "list index out of range",
     "output_type": "error",
     "traceback": [
      "\u001b[0;31m---------------------------------------------------------------------------\u001b[0m",
      "\u001b[0;31mIndexError\u001b[0m                                Traceback (most recent call last)",
      "\u001b[0;32m<ipython-input-21-088bdb8a195e>\u001b[0m in \u001b[0;36m<module>\u001b[0;34m()\u001b[0m\n\u001b[1;32m     26\u001b[0m \u001b[0;34m\u001b[0m\u001b[0m\n\u001b[1;32m     27\u001b[0m \u001b[0mposts\u001b[0m \u001b[0;34m=\u001b[0m \u001b[0msorted\u001b[0m\u001b[0;34m(\u001b[0m\u001b[0mposts\u001b[0m\u001b[0;34m,\u001b[0m \u001b[0mkey\u001b[0m\u001b[0;34m=\u001b[0m \u001b[0;32mlambda\u001b[0m \u001b[0mx\u001b[0m\u001b[0;34m:\u001b[0m \u001b[0mx\u001b[0m\u001b[0;34m[\u001b[0m\u001b[0;34m'時間'\u001b[0m\u001b[0;34m]\u001b[0m\u001b[0;34m)\u001b[0m\u001b[0;34m\u001b[0m\u001b[0m\n\u001b[0;32m---> 28\u001b[0;31m \u001b[0mposts\u001b[0m\u001b[0;34m[\u001b[0m\u001b[0;34m-\u001b[0m\u001b[0;36m1\u001b[0m\u001b[0;34m]\u001b[0m\u001b[0;34m\u001b[0m\u001b[0m\n\u001b[0m",
      "\u001b[0;31mIndexError\u001b[0m: list index out of range"
     ]
    }
   ],
   "source": [
    "# 改成 Gossiping 版，發生錯誤，因為八卦版會跳轉到一個「十八歲的同意驗證頁面」導致錯誤。\n",
    "\n",
    "\n",
    "import requests\n",
    "from bs4 import BeautifulSoup\n",
    "\n",
    "url = 'https://www.ptt.cc/bbs/Gossiping/index.html'\n",
    "r = requests.get(url)\n",
    "\n",
    "soup = BeautifulSoup(r.text, \"html5lib\")\n",
    "\n",
    "posts = []\n",
    "\n",
    "for d in soup.find_all(class_=\"title\"):\n",
    "    try:\n",
    "        post = {}\n",
    "        post['標題'] = d.text.replace('\\t', '').replace('\\n', '')\n",
    "        \n",
    "        r = BeautifulSoup(requests.get('https://www.ptt.cc'+d.find('a')['href']).text, \"html5lib\")\n",
    "        post['作者'] = r.find(class_='article-meta-value').text\n",
    "        post['時間'] = r.find_all(class_='article-meta-value')[-1].text\n",
    "        \n",
    "        posts.append(post)\n",
    "    except:\n",
    "        continue\n",
    "        \n",
    "posts = sorted(posts, key= lambda x: x['時間'])\n",
    "posts[-1]"
   ]
  },
  {
   "cell_type": "code",
   "execution_count": 29,
   "metadata": {},
   "outputs": [
    {
     "data": {
      "text/plain": [
       "{'標題': '[公告] 宣導禁止回文政問',\n",
       " '作者': 'arsonlolita (板主)',\n",
       " '時間': 'Wed Nov 20 09:14:42 2019'}"
      ]
     },
     "execution_count": 29,
     "metadata": {},
     "output_type": "execute_result"
    }
   ],
   "source": [
    "# 改成 Gossiping 版，發生錯誤，因為八卦版會跳轉到一個「十八歲的同意驗證頁面」導致錯誤。\n",
    "# 參考圖片下載時的解法，加上 cookies 繞過驗證（後面課程會再進行補充）\n",
    "\n",
    "\n",
    "import requests\n",
    "from bs4 import BeautifulSoup\n",
    "\n",
    "url = 'https://www.ptt.cc/bbs/Gossiping/index.html'\n",
    "r = requests.get(url, cookies={'over18': '1'})\n",
    "\n",
    "soup = BeautifulSoup(r.text, \"html5lib\")\n",
    "\n",
    "posts = []\n",
    "\n",
    "for d in soup.find_all(class_=\"title\"):\n",
    "    try:\n",
    "        post = {}\n",
    "        post['標題'] = d.text.replace('\\t', '').replace('\\n', '')\n",
    "        \n",
    "        r = BeautifulSoup(requests.get('https://www.ptt.cc'+d.find('a')['href'], cookies={'over18': '1'}).text, \"html5lib\")\n",
    "        post['作者'] = r.find(class_='article-meta-value').text\n",
    "        post['時間'] = r.find_all(class_='article-meta-value')[-1].text\n",
    "        \n",
    "        posts.append(post)\n",
    "    except:\n",
    "        continue\n",
    "        \n",
    "posts = sorted(posts, key= lambda x: x['時間'])\n",
    "posts[-1]"
   ]
  },
  {
   "cell_type": "code",
   "execution_count": 33,
   "metadata": {},
   "outputs": [
    {
     "data": {
      "text/plain": [
       "{'標題': '[新聞] 共青團捧網紅 網友：她怎麼上YouTube的',\n",
       " '作者': 'KahoJyumonji (Kahojyumonji)',\n",
       " '時間': datetime.datetime(2019, 12, 12, 11, 16, 52)}"
      ]
     },
     "execution_count": 33,
     "metadata": {},
     "output_type": "execute_result"
    }
   ],
   "source": [
    "# 我們發現這個時間好像不是正確的，原因是我們前面存到的時間，其實不是正確的格式\n",
    "\n",
    "# 改成 Gossiping 版，發生錯誤，因為八卦版會跳轉到一個「十八歲的同意驗證頁面」導致錯誤。\n",
    "# 參考圖片下載時的解法，加上 cookies 繞過驗證（後面課程會再進行補充）\n",
    "\n",
    "\n",
    "import requests\n",
    "from bs4 import BeautifulSoup\n",
    "\n",
    "url = 'https://www.ptt.cc/bbs/Gossiping/index.html'\n",
    "r = requests.get(url, cookies={'over18': '1'})\n",
    "\n",
    "soup = BeautifulSoup(r.text, \"html5lib\")\n",
    "\n",
    "posts = []\n",
    "\n",
    "for d in soup.find_all(class_=\"title\"):\n",
    "    try:\n",
    "        post = {}\n",
    "        post['標題'] = d.text.replace('\\t', '').replace('\\n', '')\n",
    "        \n",
    "        r = BeautifulSoup(requests.get('https://www.ptt.cc'+d.find('a')['href'], cookies={'over18': '1'}).text, \"html5lib\")\n",
    "        post['作者'] = r.find(class_='article-meta-value').text\n",
    "        post['時間'] = r.find_all(class_='article-meta-value')[-1].text\n",
    "        post['時間'] = datetime.strptime(post['時間'], \"%a %b %d %H:%M:%S %Y\")\n",
    "        # 時間轉換：https://stackoverflow.com/questions/10256093/how-to-convert-ctime-to-datetime-in-python\n",
    "        \n",
    "        posts.append(post)\n",
    "    except:\n",
    "        continue\n",
    "        \n",
    "posts = sorted(posts, key= lambda x: x['時間'])\n",
    "posts[-1]"
   ]
  },
  {
   "cell_type": "code",
   "execution_count": null,
   "metadata": {},
   "outputs": [],
   "source": []
  }
 ],
 "metadata": {
  "kernelspec": {
   "display_name": "Python 3",
   "language": "python",
   "name": "python3"
  },
  "language_info": {
   "codemirror_mode": {
    "name": "ipython",
    "version": 3
   },
   "file_extension": ".py",
   "mimetype": "text/x-python",
   "name": "python",
   "nbconvert_exporter": "python",
   "pygments_lexer": "ipython3",
   "version": "3.7.3"
  }
 },
 "nbformat": 4,
 "nbformat_minor": 2
}
